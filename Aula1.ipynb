{
 "cells": [
  {
   "cell_type": "code",
   "execution_count": 1,
   "id": "94fab991-a0df-4605-8200-b895aaf4a286",
   "metadata": {},
   "outputs": [
    {
     "data": {
      "text/plain": [
       "'C:\\\\Users\\\\aluno\\\\visao_am'"
      ]
     },
     "execution_count": 1,
     "metadata": {},
     "output_type": "execute_result"
    }
   ],
   "source": [
    "pwd"
   ]
  },
  {
   "cell_type": "code",
   "execution_count": 2,
   "id": "6ae076bb-911e-4404-be6f-eff92451c71b",
   "metadata": {},
   "outputs": [
    {
     "name": "stdout",
     "output_type": "stream",
     "text": [
      "TESTE\n"
     ]
    }
   ],
   "source": [
    "print('TESTE')"
   ]
  },
  {
   "cell_type": "code",
   "execution_count": 3,
   "id": "0342ff9f-ea8c-47a8-b69f-9ea7433831a8",
   "metadata": {},
   "outputs": [
    {
     "data": {
      "text/plain": [
       "15144129"
      ]
     },
     "execution_count": 3,
     "metadata": {},
     "output_type": "execute_result"
    }
   ],
   "source": [
    "123 * 123123"
   ]
  },
  {
   "cell_type": "code",
   "execution_count": 4,
   "id": "22e3d226-0c8b-4c76-96ac-466baf5f2f69",
   "metadata": {},
   "outputs": [],
   "source": [
    "a = 'Visao Computacional'"
   ]
  },
  {
   "cell_type": "code",
   "execution_count": 5,
   "id": "c4c04d38-4920-49b0-acb7-727a4821f490",
   "metadata": {},
   "outputs": [
    {
     "name": "stdout",
     "output_type": "stream",
     "text": [
      "Visao Computacional\n"
     ]
    }
   ],
   "source": [
    "print(a)"
   ]
  },
  {
   "cell_type": "code",
   "execution_count": null,
   "id": "4e48ae89-b6d9-4406-bef6-2771554dedd1",
   "metadata": {},
   "outputs": [],
   "source": []
  },
  {
   "cell_type": "code",
   "execution_count": 13,
   "id": "64f550e3-b28c-40e3-a555-d8b5399c6127",
   "metadata": {},
   "outputs": [],
   "source": [
    "a1 = 5"
   ]
  },
  {
   "cell_type": "code",
   "execution_count": 14,
   "id": "62271364-a6fa-416b-b7f6-b47d065fabb4",
   "metadata": {},
   "outputs": [],
   "source": [
    "x = 100\n",
    "y = 300\n",
    "z = 432"
   ]
  },
  {
   "cell_type": "code",
   "execution_count": 15,
   "id": "bdf3073b-f56f-45f9-8e82-46f5769d7220",
   "metadata": {},
   "outputs": [],
   "source": [
    "k = x * y / z"
   ]
  },
  {
   "cell_type": "code",
   "execution_count": 16,
   "id": "6f0667f6-2145-49d1-a6bd-8bcb5888b476",
   "metadata": {},
   "outputs": [],
   "source": [
    "b = 5."
   ]
  },
  {
   "cell_type": "code",
   "execution_count": 17,
   "id": "37599891-d8f9-45ec-90e1-f0562b3c372c",
   "metadata": {},
   "outputs": [],
   "source": [
    "v = \"aprendizado de maquina\""
   ]
  },
  {
   "cell_type": "code",
   "execution_count": 29,
   "id": "84046ca9-71ee-48d4-a338-b8cf67385199",
   "metadata": {},
   "outputs": [],
   "source": [
    "lst_x = ['Manaus','Sao Paulo', 'Rio de Janeio']"
   ]
  },
  {
   "cell_type": "code",
   "execution_count": 21,
   "id": "41c40c16-357e-4a19-93e0-f8dfea3c6441",
   "metadata": {},
   "outputs": [
    {
     "data": {
      "text/plain": [
       "['Manaus', 'Sao Paulo', 'Rio de Janeio']"
      ]
     },
     "execution_count": 21,
     "metadata": {},
     "output_type": "execute_result"
    }
   ],
   "source": [
    "lst1"
   ]
  },
  {
   "cell_type": "code",
   "execution_count": 22,
   "id": "a9521b69-7c11-4cff-989a-c61357bfc3f4",
   "metadata": {},
   "outputs": [
    {
     "data": {
      "text/plain": [
       "'Manaus'"
      ]
     },
     "execution_count": 22,
     "metadata": {},
     "output_type": "execute_result"
    }
   ],
   "source": [
    "lst1[0]"
   ]
  },
  {
   "cell_type": "code",
   "execution_count": 23,
   "id": "52b43826-504d-4fa7-920c-7fb16262c4ea",
   "metadata": {},
   "outputs": [],
   "source": [
    "tpl1 = ('Manaus','Sao Paulo', 'Rio de Janeio')"
   ]
  },
  {
   "cell_type": "code",
   "execution_count": 24,
   "id": "0f13253a-d8d0-49f3-8b91-22b3d4d8ec9a",
   "metadata": {},
   "outputs": [
    {
     "data": {
      "text/plain": [
       "('Manaus', 'Sao Paulo', 'Rio de Janeio')"
      ]
     },
     "execution_count": 24,
     "metadata": {},
     "output_type": "execute_result"
    }
   ],
   "source": [
    "tpl1"
   ]
  },
  {
   "cell_type": "code",
   "execution_count": 30,
   "id": "dd99f90a-4224-41a6-bbb9-1fdb2429e414",
   "metadata": {},
   "outputs": [],
   "source": [
    "lst_x.append('Manacapuru')"
   ]
  },
  {
   "cell_type": "code",
   "execution_count": 31,
   "id": "098d5b29-b12e-44ff-98c2-4f85f42877b4",
   "metadata": {},
   "outputs": [],
   "source": [
    "lst_x.insert(1, 'Itacoatiara')"
   ]
  },
  {
   "cell_type": "code",
   "execution_count": 32,
   "id": "b690edf3-3ed1-4c1b-88fe-36422088af62",
   "metadata": {},
   "outputs": [
    {
     "name": "stdin",
     "output_type": "stream",
     "text": [
      "Entre com valor numérico 123\n"
     ]
    }
   ],
   "source": [
    "e1 = input('Entre com valor numérico')"
   ]
  },
  {
   "cell_type": "code",
   "execution_count": 33,
   "id": "7ef08646-7fa2-43b5-96e4-3a4a7d6b4d52",
   "metadata": {},
   "outputs": [
    {
     "data": {
      "text/plain": [
       "'123'"
      ]
     },
     "execution_count": 33,
     "metadata": {},
     "output_type": "execute_result"
    }
   ],
   "source": [
    "e1"
   ]
  },
  {
   "cell_type": "code",
   "execution_count": 35,
   "id": "3b28cf79-f030-4eda-98b1-c3c5332715f7",
   "metadata": {},
   "outputs": [
    {
     "data": {
      "text/plain": [
       "str"
      ]
     },
     "execution_count": 35,
     "metadata": {},
     "output_type": "execute_result"
    }
   ],
   "source": [
    "type(e1)"
   ]
  },
  {
   "cell_type": "code",
   "execution_count": 36,
   "id": "3d31ce09-9302-4548-91b5-3f1c1adf14d1",
   "metadata": {},
   "outputs": [
    {
     "name": "stdin",
     "output_type": "stream",
     "text": [
      "Entre com a sua cidade:  Belem\n"
     ]
    }
   ],
   "source": [
    "texto = input('Entre com a sua cidade: ')"
   ]
  },
  {
   "cell_type": "code",
   "execution_count": 37,
   "id": "83be666f-68c6-4f53-b4a4-e0b5c1cc92a0",
   "metadata": {},
   "outputs": [
    {
     "data": {
      "text/plain": [
       "'Belem'"
      ]
     },
     "execution_count": 37,
     "metadata": {},
     "output_type": "execute_result"
    }
   ],
   "source": [
    "texto"
   ]
  },
  {
   "cell_type": "code",
   "execution_count": 39,
   "id": "aac09561-5e21-4d94-8287-9fcbeb6a70e6",
   "metadata": {},
   "outputs": [],
   "source": [
    "lst_x.insert(1, texto)"
   ]
  },
  {
   "cell_type": "code",
   "execution_count": 40,
   "id": "6d9cf765-a17c-418c-97a4-74d2b939746a",
   "metadata": {},
   "outputs": [
    {
     "data": {
      "text/plain": [
       "['Manaus', 'Belem', 'Itacoatiara', 'Sao Paulo', 'Rio de Janeio', 'Manacapuru']"
      ]
     },
     "execution_count": 40,
     "metadata": {},
     "output_type": "execute_result"
    }
   ],
   "source": [
    "lst_x"
   ]
  },
  {
   "cell_type": "code",
   "execution_count": 56,
   "id": "8c4193a8-8fac-4e8f-8d53-4ce8d1d91988",
   "metadata": {},
   "outputs": [],
   "source": [
    "path = 'C:/Users/aluno/downloads/datasets/'"
   ]
  },
  {
   "cell_type": "code",
   "execution_count": 57,
   "id": "a3d74e70-c2d0-4727-aefa-d1490c3c3dc2",
   "metadata": {},
   "outputs": [],
   "source": [
    "import pandas as pd"
   ]
  },
  {
   "cell_type": "code",
   "execution_count": 58,
   "id": "9242efc2-2c20-45a0-9e2a-2862bf88211a",
   "metadata": {},
   "outputs": [
    {
     "data": {
      "text/plain": [
       "'C:/Users/aluno/downloads/datasets/'"
      ]
     },
     "execution_count": 58,
     "metadata": {},
     "output_type": "execute_result"
    }
   ],
   "source": [
    "path"
   ]
  },
  {
   "cell_type": "code",
   "execution_count": 59,
   "id": "7b3e37fd-f5a9-4509-9112-24ea629e2ef7",
   "metadata": {},
   "outputs": [],
   "source": [
    "df_1 = pd.read_csv(path + 'london.csv')"
   ]
  },
  {
   "cell_type": "code",
   "execution_count": 60,
   "id": "6648717c-2c03-404b-b3eb-8befce1060a1",
   "metadata": {},
   "outputs": [
    {
     "data": {
      "text/plain": [
       "<bound method NDFrame.describe of        Total       Sport  Age  Height  Weight Sex\n",
       "0          0        Judo   23   170.0    60.0   M\n",
       "1          0   Athletics   33   193.0   125.0   M\n",
       "2          0   Athletics   30   187.0    76.0   M\n",
       "3          0      Boxing   24     NaN     NaN   M\n",
       "4          0   Athletics   26   178.0    85.0   F\n",
       "...      ...         ...  ...     ...     ...  ..\n",
       "10379      0   Athletics   24   171.0    87.0   F\n",
       "10380      0   Athletics   28   172.0    56.0   F\n",
       "10381      0    Handball   27   180.0    87.0   M\n",
       "10382      0   Athletics   25   173.0    62.0   F\n",
       "10383      0  Basketball   24   221.0   110.0   M\n",
       "\n",
       "[10384 rows x 6 columns]>"
      ]
     },
     "execution_count": 60,
     "metadata": {},
     "output_type": "execute_result"
    }
   ],
   "source": [
    "df_1.describe"
   ]
  },
  {
   "cell_type": "code",
   "execution_count": 61,
   "id": "b6278640-6a07-40cd-a8d7-6867d5d73f9a",
   "metadata": {},
   "outputs": [
    {
     "name": "stdout",
     "output_type": "stream",
     "text": [
      "<class 'pandas.core.frame.DataFrame'>\n",
      "RangeIndex: 10384 entries, 0 to 10383\n",
      "Data columns (total 6 columns):\n",
      " #   Column  Non-Null Count  Dtype  \n",
      "---  ------  --------------  -----  \n",
      " 0   Total   10384 non-null  int64  \n",
      " 1   Sport   10384 non-null  object \n",
      " 2   Age     10384 non-null  int64  \n",
      " 3   Height  9823 non-null   float64\n",
      " 4   Weight  9104 non-null   float64\n",
      " 5   Sex     10384 non-null  object \n",
      "dtypes: float64(2), int64(2), object(2)\n",
      "memory usage: 486.9+ KB\n"
     ]
    }
   ],
   "source": [
    "df_1.info()"
   ]
  },
  {
   "cell_type": "code",
   "execution_count": 62,
   "id": "b276d018-e561-4a45-a6d6-eb646eee6095",
   "metadata": {},
   "outputs": [
    {
     "data": {
      "text/html": [
       "<div>\n",
       "<style scoped>\n",
       "    .dataframe tbody tr th:only-of-type {\n",
       "        vertical-align: middle;\n",
       "    }\n",
       "\n",
       "    .dataframe tbody tr th {\n",
       "        vertical-align: top;\n",
       "    }\n",
       "\n",
       "    .dataframe thead th {\n",
       "        text-align: right;\n",
       "    }\n",
       "</style>\n",
       "<table border=\"1\" class=\"dataframe\">\n",
       "  <thead>\n",
       "    <tr style=\"text-align: right;\">\n",
       "      <th></th>\n",
       "      <th>Total</th>\n",
       "      <th>Sport</th>\n",
       "      <th>Age</th>\n",
       "      <th>Height</th>\n",
       "      <th>Weight</th>\n",
       "      <th>Sex</th>\n",
       "    </tr>\n",
       "  </thead>\n",
       "  <tbody>\n",
       "    <tr>\n",
       "      <th>0</th>\n",
       "      <td>0</td>\n",
       "      <td>Judo</td>\n",
       "      <td>23</td>\n",
       "      <td>170.0</td>\n",
       "      <td>60.0</td>\n",
       "      <td>M</td>\n",
       "    </tr>\n",
       "    <tr>\n",
       "      <th>1</th>\n",
       "      <td>0</td>\n",
       "      <td>Athletics</td>\n",
       "      <td>33</td>\n",
       "      <td>193.0</td>\n",
       "      <td>125.0</td>\n",
       "      <td>M</td>\n",
       "    </tr>\n",
       "    <tr>\n",
       "      <th>2</th>\n",
       "      <td>0</td>\n",
       "      <td>Athletics</td>\n",
       "      <td>30</td>\n",
       "      <td>187.0</td>\n",
       "      <td>76.0</td>\n",
       "      <td>M</td>\n",
       "    </tr>\n",
       "    <tr>\n",
       "      <th>3</th>\n",
       "      <td>0</td>\n",
       "      <td>Boxing</td>\n",
       "      <td>24</td>\n",
       "      <td>NaN</td>\n",
       "      <td>NaN</td>\n",
       "      <td>M</td>\n",
       "    </tr>\n",
       "    <tr>\n",
       "      <th>4</th>\n",
       "      <td>0</td>\n",
       "      <td>Athletics</td>\n",
       "      <td>26</td>\n",
       "      <td>178.0</td>\n",
       "      <td>85.0</td>\n",
       "      <td>F</td>\n",
       "    </tr>\n",
       "  </tbody>\n",
       "</table>\n",
       "</div>"
      ],
      "text/plain": [
       "   Total      Sport  Age  Height  Weight Sex\n",
       "0      0       Judo   23   170.0    60.0   M\n",
       "1      0  Athletics   33   193.0   125.0   M\n",
       "2      0  Athletics   30   187.0    76.0   M\n",
       "3      0     Boxing   24     NaN     NaN   M\n",
       "4      0  Athletics   26   178.0    85.0   F"
      ]
     },
     "execution_count": 62,
     "metadata": {},
     "output_type": "execute_result"
    }
   ],
   "source": [
    "df_1.head()"
   ]
  },
  {
   "cell_type": "code",
   "execution_count": 63,
   "id": "c6449f93-7fb3-4301-9ef4-b703b8d0e72d",
   "metadata": {},
   "outputs": [
    {
     "data": {
      "text/plain": [
       "<bound method NDFrame.tail of        Total       Sport  Age  Height  Weight Sex\n",
       "0          0        Judo   23   170.0    60.0   M\n",
       "1          0   Athletics   33   193.0   125.0   M\n",
       "2          0   Athletics   30   187.0    76.0   M\n",
       "3          0      Boxing   24     NaN     NaN   M\n",
       "4          0   Athletics   26   178.0    85.0   F\n",
       "...      ...         ...  ...     ...     ...  ..\n",
       "10379      0   Athletics   24   171.0    87.0   F\n",
       "10380      0   Athletics   28   172.0    56.0   F\n",
       "10381      0    Handball   27   180.0    87.0   M\n",
       "10382      0   Athletics   25   173.0    62.0   F\n",
       "10383      0  Basketball   24   221.0   110.0   M\n",
       "\n",
       "[10384 rows x 6 columns]>"
      ]
     },
     "execution_count": 63,
     "metadata": {},
     "output_type": "execute_result"
    }
   ],
   "source": [
    "df_1.tail"
   ]
  },
  {
   "cell_type": "code",
   "execution_count": 67,
   "id": "4a6d231e-eb83-451d-af4a-b74eb5c87953",
   "metadata": {},
   "outputs": [
    {
     "data": {
      "text/html": [
       "<div>\n",
       "<style scoped>\n",
       "    .dataframe tbody tr th:only-of-type {\n",
       "        vertical-align: middle;\n",
       "    }\n",
       "\n",
       "    .dataframe tbody tr th {\n",
       "        vertical-align: top;\n",
       "    }\n",
       "\n",
       "    .dataframe thead th {\n",
       "        text-align: right;\n",
       "    }\n",
       "</style>\n",
       "<table border=\"1\" class=\"dataframe\">\n",
       "  <thead>\n",
       "    <tr style=\"text-align: right;\">\n",
       "      <th></th>\n",
       "      <th>Sport</th>\n",
       "      <th>Age</th>\n",
       "      <th>Sex</th>\n",
       "    </tr>\n",
       "  </thead>\n",
       "  <tbody>\n",
       "    <tr>\n",
       "      <th>0</th>\n",
       "      <td>Judo</td>\n",
       "      <td>23</td>\n",
       "      <td>M</td>\n",
       "    </tr>\n",
       "    <tr>\n",
       "      <th>1</th>\n",
       "      <td>Athletics</td>\n",
       "      <td>33</td>\n",
       "      <td>M</td>\n",
       "    </tr>\n",
       "    <tr>\n",
       "      <th>2</th>\n",
       "      <td>Athletics</td>\n",
       "      <td>30</td>\n",
       "      <td>M</td>\n",
       "    </tr>\n",
       "    <tr>\n",
       "      <th>3</th>\n",
       "      <td>Boxing</td>\n",
       "      <td>24</td>\n",
       "      <td>M</td>\n",
       "    </tr>\n",
       "    <tr>\n",
       "      <th>4</th>\n",
       "      <td>Athletics</td>\n",
       "      <td>26</td>\n",
       "      <td>F</td>\n",
       "    </tr>\n",
       "    <tr>\n",
       "      <th>...</th>\n",
       "      <td>...</td>\n",
       "      <td>...</td>\n",
       "      <td>...</td>\n",
       "    </tr>\n",
       "    <tr>\n",
       "      <th>10379</th>\n",
       "      <td>Athletics</td>\n",
       "      <td>24</td>\n",
       "      <td>F</td>\n",
       "    </tr>\n",
       "    <tr>\n",
       "      <th>10380</th>\n",
       "      <td>Athletics</td>\n",
       "      <td>28</td>\n",
       "      <td>F</td>\n",
       "    </tr>\n",
       "    <tr>\n",
       "      <th>10381</th>\n",
       "      <td>Handball</td>\n",
       "      <td>27</td>\n",
       "      <td>M</td>\n",
       "    </tr>\n",
       "    <tr>\n",
       "      <th>10382</th>\n",
       "      <td>Athletics</td>\n",
       "      <td>25</td>\n",
       "      <td>F</td>\n",
       "    </tr>\n",
       "    <tr>\n",
       "      <th>10383</th>\n",
       "      <td>Basketball</td>\n",
       "      <td>24</td>\n",
       "      <td>M</td>\n",
       "    </tr>\n",
       "  </tbody>\n",
       "</table>\n",
       "<p>10384 rows × 3 columns</p>\n",
       "</div>"
      ],
      "text/plain": [
       "            Sport  Age Sex\n",
       "0            Judo   23   M\n",
       "1       Athletics   33   M\n",
       "2       Athletics   30   M\n",
       "3          Boxing   24   M\n",
       "4       Athletics   26   F\n",
       "...           ...  ...  ..\n",
       "10379   Athletics   24   F\n",
       "10380   Athletics   28   F\n",
       "10381    Handball   27   M\n",
       "10382   Athletics   25   F\n",
       "10383  Basketball   24   M\n",
       "\n",
       "[10384 rows x 3 columns]"
      ]
     },
     "execution_count": 67,
     "metadata": {},
     "output_type": "execute_result"
    }
   ],
   "source": [
    "df_1[['Sport', 'Age', 'Sex']]"
   ]
  },
  {
   "cell_type": "code",
   "execution_count": null,
   "id": "78dc0c40-2c3e-4221-8fcd-eec52e832aea",
   "metadata": {},
   "outputs": [],
   "source": []
  }
 ],
 "metadata": {
  "kernelspec": {
   "display_name": "Python 3 (ipykernel)",
   "language": "python",
   "name": "python3"
  },
  "language_info": {
   "codemirror_mode": {
    "name": "ipython",
    "version": 3
   },
   "file_extension": ".py",
   "mimetype": "text/x-python",
   "name": "python",
   "nbconvert_exporter": "python",
   "pygments_lexer": "ipython3",
   "version": "3.10.14"
  }
 },
 "nbformat": 4,
 "nbformat_minor": 5
}
